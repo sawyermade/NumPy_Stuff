{
  "nbformat": 4,
  "nbformat_minor": 0,
  "metadata": {
    "colab": {
      "name": "NumPy_Stuff.ipynb",
      "private_outputs": true,
      "provenance": [],
      "collapsed_sections": [
        "JOQLLjtmSsfX",
        "CUKe0LmAEyjv"
      ],
      "toc_visible": true,
      "authorship_tag": "ABX9TyPT/ZGylLim2CRFIVizSMoS",
      "include_colab_link": true
    },
    "kernelspec": {
      "name": "python3",
      "display_name": "Python 3"
    },
    "language_info": {
      "name": "python"
    }
  },
  "cells": [
    {
      "cell_type": "markdown",
      "metadata": {
        "id": "view-in-github",
        "colab_type": "text"
      },
      "source": [
        "<a href=\"https://colab.research.google.com/github/sawyermade/NumPy_Stuff/blob/master/NumPy_Stuff.ipynb\" target=\"_parent\"><img src=\"https://colab.research.google.com/assets/colab-badge.svg\" alt=\"Open In Colab\"/></a>"
      ]
    },
    {
      "cell_type": "markdown",
      "metadata": {
        "id": "yE_wB9kJ-bPZ"
      },
      "source": [
        "# Import NumPy\n",
        "You must first import NumPy before you use it."
      ]
    },
    {
      "cell_type": "code",
      "metadata": {
        "id": "Z7pyQFJY-R_T"
      },
      "source": [
        "import numpy as np"
      ],
      "execution_count": null,
      "outputs": []
    },
    {
      "cell_type": "markdown",
      "metadata": {
        "id": "uAtBUo9C-jgX"
      },
      "source": [
        "# Create NumPy Arrays"
      ]
    },
    {
      "cell_type": "markdown",
      "metadata": {
        "id": "vzcgEcz5-tyI"
      },
      "source": [
        "## Create Array Manually\n",
        "You can manually create arrays with fixed numbers but this usually isn't a good way to do it with large matrices since it is a pain to type them all in."
      ]
    },
    {
      "cell_type": "code",
      "metadata": {
        "id": "ufHgAFvJ-pmE"
      },
      "source": [
        "A = np.array([1, 2, 3])\n",
        "print(f'A shape, array: {A.shape}, {A}')"
      ],
      "execution_count": null,
      "outputs": []
    },
    {
      "cell_type": "markdown",
      "metadata": {
        "id": "Pg6en90A_eLF"
      },
      "source": [
        "## Create Array From a Python List\n",
        "You can also create an array from the built-in list() type of python"
      ]
    },
    {
      "cell_type": "code",
      "metadata": {
        "id": "wiHjBCJD_n85"
      },
      "source": [
        "# Python List\n",
        "L = [\n",
        "     [1, 2, 3],\n",
        "     [4, 5, 6],\n",
        "     [7, 8, 9]\n",
        "]\n",
        "print(f'L type: {type(L)}\\n')\n",
        "print(f'L: {L}\\n')\n",
        "\n",
        "# Convert to NumPy Array\n",
        "A = np.array(L)\n",
        "print(f'A type: {type(A)}\\n')\n",
        "print(f'A: \\n{A}\\n')\n",
        "print(f'A shape: {A.shape}\\n')"
      ],
      "execution_count": null,
      "outputs": []
    },
    {
      "cell_type": "markdown",
      "metadata": {
        "id": "JOQLLjtmSsfX"
      },
      "source": [
        "## Create Array of Zeros/Ones\n",
        "Creates an array full of zeros/ones with set shape"
      ]
    },
    {
      "cell_type": "code",
      "metadata": {
        "id": "D4og3pbRS2rx"
      },
      "source": [
        "# Create array full of zeros with default type float\n",
        "shape = (3, 3)\n",
        "A = np.zeros(shape)\n",
        "print(f'A.dtype: {A.dtype}')\n",
        "print(f'A.shape: {A.shape}')\n",
        "print(f'A: \\n{A}')\n",
        "if str(A.dtype).startswith('float'):\n",
        "    print('A.dtype is float\\n')\n",
        "\n",
        "# Create array full of zeros dtype int\n",
        "shape = (3, 3)\n",
        "A = np.zeros(shape, dtype=np.uint8)\n",
        "print(f'A.dtype: {A.dtype}')\n",
        "print(f'A.shape: {A.shape}')\n",
        "print(f'A: \\n{A}')\n",
        "if A.dtype == 'uint8':\n",
        "    print('A.dtype is uint8\\n')\n",
        "\n",
        "# The same is true for 1s as above. \n",
        "# The decimal in 0. & 1. means it is float\n",
        "A = np.ones(shape)\n",
        "print(f'A: \\n{A}\\n')"
      ],
      "execution_count": null,
      "outputs": []
    },
    {
      "cell_type": "markdown",
      "metadata": {
        "id": "bUQ5mOCxbBSi"
      },
      "source": [
        "## Create Array in Range\n",
        "Creates an array with range: start, stop, step"
      ]
    },
    {
      "cell_type": "code",
      "metadata": {
        "id": "zgOrHOUFbUGh"
      },
      "source": [
        "# Create array with range 0 to 9\n",
        "A = np.arange(10)\n",
        "print(f'A: {A}\\n')\n",
        "\n",
        "# Create array with range 10 to 19\n",
        "B = np.arange(10, 20)\n",
        "print(f'B: {B}\\n')\n",
        "\n",
        "# Create array with range 0 to 19 in steps of 2\n",
        "C = np.arange(0, 20, 2)\n",
        "print(f'C: {C}\\n')\n",
        "\n",
        "# Create array with range 0 to 19 in steps of 3\n",
        "D = np.arange(0, 20, 3)\n",
        "print(f'D: {D}\\n')"
      ],
      "execution_count": null,
      "outputs": []
    },
    {
      "cell_type": "markdown",
      "metadata": {
        "id": "bQP6AWxWBHze"
      },
      "source": [
        "## Create Array From 2 or More Arrays\n",
        "Here we will concatenate 2+ arrays into a single array"
      ]
    },
    {
      "cell_type": "code",
      "metadata": {
        "id": "H-R1PfAkBT6C"
      },
      "source": [
        "# Array A\n",
        "A = np.array([\n",
        "    [1, 2, 3],\n",
        "    [4, 5, 6],\n",
        "    [7, 8, 9]\n",
        "])\n",
        "print(f'A shape: {A.shape}')\n",
        "print(f'A: \\n{A}\\n')\n",
        "\n",
        "# Array B\n",
        "B = np.array([\n",
        "    [10, 11, 12]\n",
        "])\n",
        "print(f'B shape: {B.shape}')\n",
        "print(f'B: \\n{B}\\n')\n",
        "\n",
        "# Concat using axis 0, the rows\n",
        "C = np.concatenate((A, B))\n",
        "print(f'C shape: {C.shape}')\n",
        "print(f'C: \\n{C}\\n')\n",
        "\n",
        "# Concat using axis 1, the cols\n",
        "D = np.concatenate((A, B.T), axis=1)\n",
        "print(f'D shape: {D.shape}')\n",
        "print(f'D: \\n{D}\\n')\n",
        "\n",
        "# These can also be done using vertical stack\n",
        "E = np.vstack((A, B))\n",
        "print(f'E shape: {E.shape}')\n",
        "print(f'E: \\n{E}\\n')\n",
        "\n",
        "# Also horizontal stack\n",
        "F = np.hstack((A, B.T))\n",
        "print(f'F shape: {F.shape}')\n",
        "print(f'F: \\n{F}\\n')\n",
        "\n",
        "# You can also use depth stack, a good example is RGB channels\n",
        "R = np.array([\n",
        "              [1, 4, 7],\n",
        "              [10, 13, 16],\n",
        "              [19, 22, 25]\n",
        "])\n",
        "G = np.array([\n",
        "              [2, 5, 8],\n",
        "              [11, 14, 17],\n",
        "              [20, 23, 26]\n",
        "])\n",
        "B = np.array([\n",
        "              [3, 6, 9],\n",
        "              [12, 15, 18],\n",
        "              [21, 24, 27]\n",
        "])\n",
        "print(f'R shape: {R.shape}\\nR: \\n{R}\\n')\n",
        "print(f'G shape: {G.shape}\\nG: \\n{G}\\n')\n",
        "print(f'B shape: {B.shape}\\nB: \\n{B}\\n')\n",
        "\n",
        "# Using depth stack for 3D array\n",
        "RGB = np.dstack((R, G, B))\n",
        "print(f'RGB shape: {RGB.shape}')\n",
        "print(f'RGB: \\n{RGB}\\n')\n",
        "\n",
        "# Using Concatenate for 3D array\n",
        "RR, GG, BB = R[..., None], G.reshape(G.shape + (1,)), B[:, :, None]\n",
        "RGB_2 = np.concatenate((RR, GG, BB), axis=2)\n",
        "print(f'RGB_2 shape: {RGB_2.shape}')\n",
        "print(f'RGB_2: \\n{RGB_2}\\n')"
      ],
      "execution_count": null,
      "outputs": []
    },
    {
      "cell_type": "markdown",
      "metadata": {
        "id": "CUKe0LmAEyjv"
      },
      "source": [
        "## Create Random Arrays of a Certain Shape\n",
        "Here we will create arrays of a set shape with random numbers. These can be good for checking shape broadcasting compatibility and stuff like that."
      ]
    },
    {
      "cell_type": "code",
      "metadata": {
        "id": "cZwDu8IfE68U"
      },
      "source": [
        "# Create array with random values\n",
        "A = np.random.rand(3, 3)\n",
        "print(f'A shape: {A.shape}\\n')\n",
        "print(f'A: \\n{A}\\n')\n",
        "\n",
        "# Create array with random integer values\n",
        "int_low = 0\n",
        "int_high = 10\n",
        "shape = (3, 3)\n",
        "A = np.random.randint(int_low, int_high, shape)\n",
        "print(f'A shape: {A.shape}\\n')\n",
        "print(f'A: \\n{A}\\n')"
      ],
      "execution_count": null,
      "outputs": []
    },
    {
      "cell_type": "markdown",
      "metadata": {
        "id": "_kV8yuP7YiUw"
      },
      "source": [
        "# Array Indexing & Slicing\n",
        "Shows how to index and slice arrays"
      ]
    },
    {
      "cell_type": "markdown",
      "metadata": {
        "id": "oMh1Ga_qYtsI"
      },
      "source": [
        "## Basic Indexing\n",
        "Shows basic indexing. Not all of these work on regular python lists the same way. \n",
        "\n",
        "Ex: First Element of 2D Array vs List\n",
        "\n",
        "el_1 = python_list[0][0]\n",
        "\n",
        "el_1 = numpy_array[0, 0]\n",
        "\n",
        "Although, this also works on NumPy arrays but isnt recommended:\n",
        "\n",
        "el_1 = numpy_array[0][0]"
      ]
    },
    {
      "cell_type": "code",
      "metadata": {
        "id": "G8QlDuhAYzxX"
      },
      "source": [
        "A = np.array([\n",
        "              [1, 2, 3],\n",
        "              [4, 5, 6],\n",
        "              [7, 8, 9],\n",
        "              [10, 11, 12]\n",
        "])\n",
        "\n",
        "# Gets first element\n",
        "el_1 = A[0, 0]\n",
        "print(f'el_1: {el_1}\\n')\n",
        "\n",
        "# Get last element\n",
        "el_last = A[-1, -1]\n",
        "print(f'el_last: {el_last}\\n')\n",
        "\n",
        "# Gets first row\n",
        "row_1 = A[0]\n",
        "print(f'row_1: {row_1}\\n')\n",
        "\n",
        "# Gets last row\n",
        "row_last = A[-1]\n",
        "print(f'row_last: {row_last}\\n')\n",
        "\n",
        "# Gets first column\n",
        "col_1 = A[:, 0]\n",
        "print(f'col_1: {col_1}\\n')\n",
        "\n",
        "# Gets last column\n",
        "col_last = A[:, -1]\n",
        "print(f'col_last: {col_last}\\n')\n",
        "\n",
        "# For RGB or 3D Arrays\n",
        "A = np.arange(27)\n",
        "A = A.reshape((3, 3, 3))\n",
        "print(f'A: \\n{A}\\n')\n",
        "\n",
        "# Get R or Red Channel\n",
        "R = A[:, :, 0]\n",
        "print(f'R: \\n{R}\\n')\n",
        "\n",
        "# Get G or Green Channel with ellipses\n",
        "G = A[..., 1]\n",
        "print(f'G: \\n{G}\\n')\n",
        "\n",
        "# Get last channel, or B/Blue\n",
        "B = A[..., -1]\n",
        "print(f'B: \\n{B}\\n')"
      ],
      "execution_count": null,
      "outputs": []
    },
    {
      "cell_type": "markdown",
      "metadata": {
        "id": "C9D4OsPgcZAr"
      },
      "source": [
        "## Basic Slicing\n",
        "Shows basics of slicing, about everything but the ellipses usually also work on python list/tuple slicing.\n",
        "\n",
        "For each dimension you have start:stop:step\n",
        "\n",
        "If no start, default is 0\n",
        "\n",
        "If no stop, default is last element\n",
        "\n",
        "If no step, default is 1\n",
        "\n",
        "A single \":\" or \"::\" means everything in that dimension. They are both functionally equivalent.\n",
        "\n",
        "Ellipses \"...\", means \"everything up until\" basically. If nothing is before or after it, it goes to the last dimension"
      ]
    },
    {
      "cell_type": "code",
      "metadata": {
        "id": "p2vj1QIAducJ"
      },
      "source": [
        "# 6x6 Array with range [1, 36] aka [1, 37)\n",
        "A = np.arange(1, 37)\n",
        "A = A.reshape((6,6))\n",
        "print(f'A.shape: {A.shape}')\n",
        "print(f'A: \\n{A}\\n')\n",
        "\n",
        "# Get first two rows\n",
        "row_first_2 = A[:2]\n",
        "print(f'row_first_2: \\n{row_first_2}\\n')\n",
        "\n",
        "# Get last two rows\n",
        "row_last_2 = A[-2:]\n",
        "print(f'row_last_2: \\n{row_last_2}\\n')\n",
        "\n",
        "# Get all even indice rows\n",
        "row_even = A[::2]\n",
        "print(f'row_even: \\n{row_even}\\n')\n",
        "\n",
        "# Get all odd indice rows\n",
        "row_odd = A[1::2]\n",
        "print(f'row_odd: \\n{row_odd}\\n')\n",
        "\n",
        "# Get all even indice rows in first 4 rows\n",
        "row_even_first_4 = A[0:4:2]\n",
        "# OR\n",
        "row_even_first_42 = A[:4:2]\n",
        "if np.array_equal(row_even_first_4, row_even_first_42):\n",
        "    print(f'row_even_first_4: \\n{row_even_first_4}\\n')\n",
        "\n",
        "# Get all odd indice rows in first 4 rows\n",
        "row_odd_first_4 = A[1:4:2]\n",
        "print(f'row_odd_first_4: \\n{row_odd_first_4}\\n')\n",
        "\n",
        "# Get all even indice rows in last 4 rows\n",
        "row_even_last_4 = A[-4::2]\n",
        "print(f'row_even_last_4: \\n{row_even_last_4}\\n')\n",
        "\n",
        "# Get all odd indice rows in last 4 rows\n",
        "row_odd_last_4 = A[-4+1::2]\n",
        "print(f'row_odd_last_4: \\n{row_odd_last_4}\\n')\n",
        "\n",
        "\n",
        "\n",
        "# Get every even indice element of each row\n",
        "el_even = A[:, ::2]\n",
        "print(f'el_even: \\n{el_even}\\n')\n",
        "\n",
        "# Get every odd indice element of each row\n",
        "el_odd = A[:, 1::2]\n",
        "print(f'el_odd: \\n{el_odd}\\n')"
      ],
      "execution_count": null,
      "outputs": []
    },
    {
      "cell_type": "markdown",
      "metadata": {
        "id": "q18vjFeKOQmc"
      },
      "source": [
        "# Array Operations\n",
        "This will go over some of the basic array operations you can do.\n",
        "\n",
        "NOTE: NumPy also has a matrix class as well as the array class. We will only be covering the array class in this course. These operations could have different outcomes if using the matrix class opposed to the array class, FYI."
      ]
    },
    {
      "cell_type": "markdown",
      "metadata": {
        "id": "nxPt_U9cRw-L"
      },
      "source": [
        "## Copy Array\n",
        "Not every operation copies the array, sometimes it is good to do this to make sure it actually copies"
      ]
    },
    {
      "cell_type": "code",
      "metadata": {
        "id": "1QadwBfpR7EP"
      },
      "source": [
        "# As you can see here, B = A is a ref (like a pointer) and any changes will be in both\n",
        "A = np.array([1, 2, 3])\n",
        "print(f'A: {A}')\n",
        "B = A\n",
        "B[0] = 0\n",
        "print(f'B: {B}')\n",
        "print(f'A after B: {A}\\n')\n",
        "\n",
        "# If you dont want above results, copy A first\n",
        "A = np.array([1, 2, 3])\n",
        "print(f'A: {A}')\n",
        "B = A.copy()\n",
        "B[0] = 0\n",
        "print(f'B: {B}')\n",
        "print(f'A after B: {A}\\n')"
      ],
      "execution_count": null,
      "outputs": []
    },
    {
      "cell_type": "markdown",
      "metadata": {
        "id": "u7Lee8vXPCc3"
      },
      "source": [
        "## Shape & Dimensions\n",
        "Get the shape and dimensions of the array"
      ]
    },
    {
      "cell_type": "code",
      "metadata": {
        "id": "QjOJ3P3JPOU8"
      },
      "source": [
        "A = np.array([\n",
        "              [1, 2, 3],\n",
        "              [4, 5, 6],\n",
        "              [7, 8, 9],\n",
        "              [10, 11, 12]\n",
        "])\n",
        "\n",
        "# Get shape of A, which would be height and width of image\n",
        "A_shape = A.shape\n",
        "y, x = A_shape\n",
        "print(f'A_shape type: {type(A_shape)}\\n')\n",
        "print(f'A_shape: {A_shape}\\n')\n",
        "print(f'A width, height: {x}, {y}\\n')\n",
        "\n",
        "# Get number of dimensions\n",
        "A_dims = A.ndim\n",
        "print(f'A_dims: {A_dims}\\n')\n",
        "\n",
        "# A.ndim should be equal to len(A.shape)\n",
        "if A.ndim == len(A.shape):\n",
        "    print('A.ndim is the same as len(A.shape)\\n')"
      ],
      "execution_count": null,
      "outputs": []
    },
    {
      "cell_type": "markdown",
      "metadata": {
        "id": "uEnHVaIEOXsY"
      },
      "source": [
        "## Transpose Array\n",
        "This will show you how to transpose an array."
      ]
    },
    {
      "cell_type": "code",
      "metadata": {
        "id": "ClTNJ1g6OwNq"
      },
      "source": [
        "A = np.array([\n",
        "              [1, 2, 3],\n",
        "              [4, 5, 6],\n",
        "              [7, 8, 9]\n",
        "])\n",
        "\n",
        "AT = A.T\n",
        "print(f'AT: \\n{AT}\\n')"
      ],
      "execution_count": null,
      "outputs": []
    },
    {
      "cell_type": "markdown",
      "metadata": {
        "id": "j0-y_eB9Qtyz"
      },
      "source": [
        "## Reshape Arrays\n",
        "There are many different ways and reasons to reshape arrays. Here are some of the most common."
      ]
    },
    {
      "cell_type": "code",
      "metadata": {
        "id": "GcYVtwpxQ3NT"
      },
      "source": [
        "A = np.array([\n",
        "    [[1, 2, 3],     [4, 5, 6],    [7, 8, 9]],\n",
        "    [[10, 11, 12], [13, 14, 15], [16, 17, 18]],\n",
        "    [[19, 20, 21], [22, 23, 24], [25, 26, 27]]\n",
        "])\n",
        "print(f'A: \\n{A}\\n')\n",
        "\n",
        "# Get shape and then flatten\n",
        "A_shape = A.shape\n",
        "A = A.flatten()\n",
        "print(f'A_shape: {A_shape}\\n')\n",
        "print(f'A.shape: {A.shape}\\n')\n",
        "print(f'A flattened: \\n{A}\\n')\n",
        "\n",
        "# Reshape back to original shape\n",
        "A = A.reshape(A_shape)\n",
        "print(f'A.shape: {A.shape}\\n')\n",
        "print(f'A: \\n{A}\\n')"
      ],
      "execution_count": null,
      "outputs": []
    },
    {
      "cell_type": "markdown",
      "metadata": {
        "id": "RFtRORhjWCcL"
      },
      "source": [
        "## Add New Axis\n",
        "There are many ways and reasons to expand the Axises of the arrays. Here are the most common ways."
      ]
    },
    {
      "cell_type": "code",
      "metadata": {
        "id": "UzCn_p6pWNRn"
      },
      "source": [
        "A = np.array([\n",
        "              [1, 2, 3],\n",
        "              [4, 5, 6],\n",
        "              [7, 8, 9]\n",
        "])\n",
        "print(f'A.shape: {A.shape}')\n",
        "print(f'A: \\n{A}\\n')\n",
        "\n",
        "# Add new axis with reshape\n",
        "B = A.reshape((3, 3, 1))\n",
        "print(f'B.shape: {B.shape}')\n",
        "print(f'B: \\n{B}\\n')\n",
        "\n",
        "# Add new axis at end with None, dimensions must be known\n",
        "C = A[:, :, None]\n",
        "print(f'C.shape: {C.shape}')\n",
        "print(f'C: \\n{C}\\n')\n",
        "\n",
        "# Add new axis at end with \"...\" & None\n",
        "# Dimensions do not need to be known, ellipses mean until the last dimension \n",
        "D = A[..., None]\n",
        "print(f'D.shape: {D.shape}')\n",
        "print(f'D: \\n{D}\\n')\n",
        "\n",
        "# You can also use np.newaxis, which is an alias for None\n",
        "E = A[..., np.newaxis]\n",
        "print(f'E.shape: {E.shape}')\n",
        "print(f'E: \\n{E}\\n')"
      ],
      "execution_count": null,
      "outputs": []
    }
  ]
}